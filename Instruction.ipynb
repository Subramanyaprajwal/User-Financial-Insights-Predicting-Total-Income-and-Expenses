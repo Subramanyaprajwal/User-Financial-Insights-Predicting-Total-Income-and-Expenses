{
 "cells": [
  {
   "cell_type": "markdown",
   "metadata": {
    "id": "N1OVantZwWuY"
   },
   "source": [
    "#**Expenses and Income Prediction**\n",
    "\n",
    "##**Assignment**\n",
    "Given the data set of transactions of 10k users, define regression models for predicting what are the total expenses and the income of a user.\n"
   ]
  },
  {
   "cell_type": "markdown",
   "metadata": {
    "id": "xC1MyYRvwWqw"
   },
   "source": [
    "###**Data Description**\n",
    "\n",
    "The file transactions_data_training.csv contains records of transactions. The other two files, transaction_types.csv and mcc_group_definition.csv are dictionaries providing explanations about values in transaction_type and mcc_group columns from the main dataset respectively.\n",
    "\n",
    "Each transaction, depending on its type, may represent money flowing either into or from a user's account. Before defining the model, you should therefore extract the target variables: the total expenses and total income of each user based on the combination of amount_n26_currency and transaction_type columns."
   ]
  },
  {
   "cell_type": "markdown",
   "metadata": {
    "id": "v6ThfYB7wWoV"
   },
   "source": [
    "###**Practicalities**\n",
    "\n",
    "Define, train and evaluate predictive models that take as the input the data provided. You may want to split the data into training, testing and validation sets, according to your discretion. Do not use external data for this project. You may use any algorithm of your choice or compare multiple models.\n",
    "\n",
    "Make sure that the solution reflects your entire thought process - it is more important how the code is structured rather than the final metrics.\n",
    "\n",
    "\n",
    "#### To download the dataset <a href=\"https://drive.google.com/drive/folders/1LTOQHJkbaJeIerrhQVca2ev86q3YNCBK?usp=sharing\"> Click here </a>"
   ]
  },
  {
   "cell_type": "code",
   "execution_count": 9,
   "metadata": {},
   "outputs": [
    {
     "name": "stdout",
     "output_type": "stream",
     "text": [
      "Transactions DataFrame:\n",
      "                            user_id transaction_date transaction_type  \\\n",
      "0  a78884f5e76951188c1e719d4956773a       2016-02-01               DT   \n",
      "1  b0333294fef6ff1299102a70ad46b126       2016-02-01               DT   \n",
      "2  7b8d2a2780adae0cd0c248e92c1b28dc       2016-02-01               DT   \n",
      "3  cc4abaa500f7db4390ae3f02bd36d805       2016-02-01               DT   \n",
      "4  49b99d1d5ba028566639e8b3eb7c055b       2016-02-01               DT   \n",
      "\n",
      "   mcc_group  amount_n26_currency dataset_transaction dataset_user  \n",
      "0        NaN                  350            training     training  \n",
      "1        NaN                  202            training     training  \n",
      "2        NaN                  291            training     training  \n",
      "3        NaN                  214            training     training  \n",
      "4        NaN                  272            training     training  \n",
      "<class 'pandas.core.frame.DataFrame'>\n",
      "RangeIndex: 408546 entries, 0 to 408545\n",
      "Data columns (total 7 columns):\n",
      " #   Column               Non-Null Count   Dtype  \n",
      "---  ------               --------------   -----  \n",
      " 0   user_id              408546 non-null  object \n",
      " 1   transaction_date     408546 non-null  object \n",
      " 2   transaction_type     408546 non-null  object \n",
      " 3   mcc_group            258324 non-null  float64\n",
      " 4   amount_n26_currency  408546 non-null  int64  \n",
      " 5   dataset_transaction  408546 non-null  object \n",
      " 6   dataset_user         408546 non-null  object \n",
      "dtypes: float64(1), int64(1), object(5)\n",
      "memory usage: 21.8+ MB\n",
      "None\n",
      "user_id                     0\n",
      "transaction_date            0\n",
      "transaction_type            0\n",
      "mcc_group              150222\n",
      "amount_n26_currency         0\n",
      "dataset_transaction         0\n",
      "dataset_user                0\n",
      "dtype: int64\n",
      "\n",
      "Transaction Types DataFrame:\n",
      "  type             explanation direction         agent\n",
      "0   AR    Authorization reject         -          Card\n",
      "1   AE   Authorization expired        In          Card\n",
      "2   AV  Authorization Reversal        In          Card\n",
      "3  BBU          Cash26 deposit        In       Partner\n",
      "4   CT         Credit Transfer        In  Bank Account\n",
      "<class 'pandas.core.frame.DataFrame'>\n",
      "RangeIndex: 23 entries, 0 to 22\n",
      "Data columns (total 4 columns):\n",
      " #   Column       Non-Null Count  Dtype \n",
      "---  ------       --------------  ----- \n",
      " 0   type         23 non-null     object\n",
      " 1   explanation  23 non-null     object\n",
      " 2   direction    23 non-null     object\n",
      " 3   agent        23 non-null     object\n",
      "dtypes: object(4)\n",
      "memory usage: 868.0+ bytes\n",
      "None\n",
      "type           0\n",
      "explanation    0\n",
      "direction      0\n",
      "agent          0\n",
      "dtype: int64\n",
      "\n",
      "MCC Group Definition DataFrame:\n",
      "   mcc_group                 explanation\n",
      "0          1                         ATM\n",
      "1          2                   Groceries\n",
      "2          3                 Gastronomie\n",
      "3          4          Shopping/(Fashion)\n",
      "4          5  Home and DIY, House Energy\n",
      "<class 'pandas.core.frame.DataFrame'>\n",
      "RangeIndex: 17 entries, 0 to 16\n",
      "Data columns (total 2 columns):\n",
      " #   Column       Non-Null Count  Dtype \n",
      "---  ------       --------------  ----- \n",
      " 0   mcc_group    17 non-null     int64 \n",
      " 1   explanation  17 non-null     object\n",
      "dtypes: int64(1), object(1)\n",
      "memory usage: 404.0+ bytes\n",
      "None\n",
      "mcc_group      0\n",
      "explanation    0\n",
      "dtype: int64\n"
     ]
    }
   ],
   "source": [
    "import pandas as pd\n",
    "\n",
    "# Load the datasets\n",
    "transactions_df = pd.read_csv('transactions_data_training.csv')\n",
    "transaction_types_df = pd.read_csv('transaction_types.csv')\n",
    "mcc_group_definition_df = pd.read_csv('mcc_group_definition.csv')\n",
    "\n",
    "# Inspect the datasets\n",
    "print(\"Transactions DataFrame:\")\n",
    "print(transactions_df.head())\n",
    "print(transactions_df.info())\n",
    "print(transactions_df.isnull().sum())\n",
    "\n",
    "print(\"\\nTransaction Types DataFrame:\")\n",
    "print(transaction_types_df.head())\n",
    "print(transaction_types_df.info())\n",
    "print(transaction_types_df.isnull().sum())\n",
    "\n",
    "print(\"\\nMCC Group Definition DataFrame:\")\n",
    "print(mcc_group_definition_df.head())\n",
    "print(mcc_group_definition_df.info())\n",
    "print(mcc_group_definition_df.isnull().sum())\n"
   ]
  },
  {
   "cell_type": "code",
   "execution_count": 10,
   "metadata": {},
   "outputs": [
    {
     "name": "stdout",
     "output_type": "stream",
     "text": [
      "Unique Transaction Types and Directions:\n",
      "   type direction\n",
      "0    AR         -\n",
      "1    AE        In\n",
      "2    AV        In\n",
      "3   BBU        In\n",
      "4    CT        In\n",
      "5    DI        In\n",
      "6    DR        In\n",
      "7    PF        In\n",
      "8    PR        In\n",
      "9    WU        In\n",
      "10   AA       Out\n",
      "11  BUB       Out\n",
      "12   DD       Out\n",
      "13   DT       Out\n",
      "14   FT       Out\n",
      "15   PT       Out\n",
      "16  TUB       Out\n",
      "17  TBU        In\n",
      "18  WEE       Out\n",
      "19   AL        In\n",
      "20   AU       Out\n",
      "21  BUS       Out\n",
      "22  BRU       Out\n",
      "\n",
      "Cleaned Transactions DataFrame Info:\n",
      "<class 'pandas.core.frame.DataFrame'>\n",
      "Index: 258324 entries, 526 to 408411\n",
      "Data columns (total 7 columns):\n",
      " #   Column               Non-Null Count   Dtype         \n",
      "---  ------               --------------   -----         \n",
      " 0   user_id              258324 non-null  object        \n",
      " 1   transaction_date     258324 non-null  datetime64[ns]\n",
      " 2   transaction_type     258324 non-null  object        \n",
      " 3   mcc_group            258324 non-null  float64       \n",
      " 4   amount_n26_currency  258324 non-null  int64         \n",
      " 5   dataset_transaction  258324 non-null  object        \n",
      " 6   dataset_user         258324 non-null  object        \n",
      "dtypes: datetime64[ns](1), float64(1), int64(1), object(4)\n",
      "memory usage: 15.8+ MB\n",
      "None\n"
     ]
    }
   ],
   "source": [
    "# Convert 'transaction_date' to datetime\n",
    "transactions_df['transaction_date'] = pd.to_datetime(transactions_df['transaction_date'])\n",
    "\n",
    "# Check for unique transaction types and their directions to understand income vs expenses\n",
    "print(\"Unique Transaction Types and Directions:\")\n",
    "print(transaction_types_df[['type', 'direction']].drop_duplicates())\n",
    "\n",
    "# Handle missing values in 'mcc_group'\n",
    "# We can either drop these rows or fill them, but for now, let's drop them for simplicity\n",
    "transactions_df.dropna(subset=['mcc_group'], inplace=True)\n",
    "\n",
    "# Check the cleaned DataFrame\n",
    "print(\"\\nCleaned Transactions DataFrame Info:\")\n",
    "print(transactions_df.info())\n"
   ]
  },
  {
   "cell_type": "code",
   "execution_count": 11,
   "metadata": {},
   "outputs": [
    {
     "name": "stdout",
     "output_type": "stream",
     "text": [
      "\n",
      "User Financials DataFrame:\n",
      "   total_income                           user_id  total_expenses\n",
      "0           0.0  000295594379774ab9ac2c78c946d615             884\n",
      "1           0.0  000aa792d73dd82b16a29692772d395a             162\n",
      "2           0.0  0011103fe4ba1264342882b7ab98c641            1313\n",
      "3           0.0  001679c77c33d7efabf800596fb2a978            3313\n",
      "4           0.0  001e72a2f4c4376f10011735dde39cd5             600\n"
     ]
    }
   ],
   "source": [
    "# Create a mapping for transaction types\n",
    "income_types = transaction_types_df[transaction_types_df['direction'] == 'In']['type'].tolist()\n",
    "expense_types = transaction_types_df[transaction_types_df['direction'] == 'Out']['type'].tolist()\n",
    "\n",
    "# Filter for income and expenses\n",
    "income_df = transactions_df[transactions_df['transaction_type'].isin(income_types)]\n",
    "expense_df = transactions_df[transactions_df['transaction_type'].isin(expense_types)]\n",
    "\n",
    "# Aggregate total income and expenses by user_id\n",
    "total_income = income_df.groupby('user_id')['amount_n26_currency'].sum().reset_index()\n",
    "total_income.rename(columns={'amount_n26_currency': 'total_income'}, inplace=True)\n",
    "\n",
    "total_expenses = expense_df.groupby('user_id')['amount_n26_currency'].sum().reset_index()\n",
    "total_expenses.rename(columns={'amount_n26_currency': 'total_expenses'}, inplace=True)\n",
    "\n",
    "# Merge total income and expenses into a single DataFrame\n",
    "user_financials = pd.merge(total_income, total_expenses, on='user_id', how='outer').fillna(0)\n",
    "\n",
    "# Check the resulting DataFrame\n",
    "print(\"\\nUser Financials DataFrame:\")\n",
    "print(user_financials.head())\n"
   ]
  },
  {
   "cell_type": "code",
   "execution_count": 12,
   "metadata": {},
   "outputs": [
    {
     "name": "stdout",
     "output_type": "stream",
     "text": [
      "Mean Squared Error: 0.0\n"
     ]
    }
   ],
   "source": [
    "from sklearn.model_selection import train_test_split\n",
    "from sklearn.linear_model import LinearRegression\n",
    "from sklearn.metrics import mean_squared_error\n",
    "\n",
    "# Prepare feature and target sets\n",
    "X = user_financials[['total_expenses']]  # We can use expenses to predict income\n",
    "y = user_financials['total_income']\n",
    "\n",
    "# Split the data into training and testing sets\n",
    "X_train, X_test, y_train, y_test = train_test_split(X, y, test_size=0.2, random_state=42)\n",
    "\n",
    "# Initialize and train the model\n",
    "model = LinearRegression()\n",
    "model.fit(X_train, y_train)\n",
    "\n",
    "# Make predictions\n",
    "y_pred = model.predict(X_test)\n",
    "\n",
    "# Evaluate the model\n",
    "mse = mean_squared_error(y_test, y_pred)\n",
    "print(f\"Mean Squared Error: {mse}\")\n"
   ]
  },
  {
   "cell_type": "code",
   "execution_count": 13,
   "metadata": {},
   "outputs": [
    {
     "name": "stdout",
     "output_type": "stream",
     "text": [
      "Training set size: 5412\n",
      "Validation set size: 1804\n",
      "Test set size: 1805\n"
     ]
    }
   ],
   "source": [
    "from sklearn.model_selection import train_test_split\n",
    "\n",
    "# Prepare feature and target sets\n",
    "X = user_financials[['total_expenses']]\n",
    "y = user_financials['total_income']\n",
    "\n",
    "# Split the data into training (60%), validation (20%), and testing (20%) sets\n",
    "X_train, X_temp, y_train, y_temp = train_test_split(X, y, test_size=0.4, random_state=42)\n",
    "X_val, X_test, y_val, y_test = train_test_split(X_temp, y_temp, test_size=0.5, random_state=42)\n",
    "\n",
    "# Check the sizes of the splits\n",
    "print(f\"Training set size: {X_train.shape[0]}\")\n",
    "print(f\"Validation set size: {X_val.shape[0]}\")\n",
    "print(f\"Test set size: {X_test.shape[0]}\")\n"
   ]
  },
  {
   "cell_type": "code",
   "execution_count": 14,
   "metadata": {},
   "outputs": [
    {
     "name": "stdout",
     "output_type": "stream",
     "text": [
      "Linear Regression: Mean Squared Error = 0.0\n",
      "Decision Tree: Mean Squared Error = 0.0\n",
      "Random Forest: Mean Squared Error = 0.0\n"
     ]
    }
   ],
   "source": [
    "from sklearn.linear_model import LinearRegression\n",
    "from sklearn.tree import DecisionTreeRegressor\n",
    "from sklearn.ensemble import RandomForestRegressor\n",
    "from sklearn.metrics import mean_squared_error\n",
    "\n",
    "# Initialize models\n",
    "models = {\n",
    "    'Linear Regression': LinearRegression(),\n",
    "    'Decision Tree': DecisionTreeRegressor(random_state=42),\n",
    "    'Random Forest': RandomForestRegressor(random_state=42)\n",
    "}\n",
    "\n",
    "# Dictionary to hold results\n",
    "results = {}\n",
    "\n",
    "# Train and evaluate each model\n",
    "for model_name, model in models.items():\n",
    "    # Train the model\n",
    "    model.fit(X_train, y_train)\n",
    "    \n",
    "    # Validate the model\n",
    "    y_val_pred = model.predict(X_val)\n",
    "    mse = mean_squared_error(y_val, y_val_pred)\n",
    "    \n",
    "    # Store results\n",
    "    results[model_name] = mse\n",
    "\n",
    "# Display results\n",
    "for model_name, mse in results.items():\n",
    "    print(f\"{model_name}: Mean Squared Error = {mse}\")\n"
   ]
  },
  {
   "cell_type": "code",
   "execution_count": 15,
   "metadata": {},
   "outputs": [
    {
     "name": "stdout",
     "output_type": "stream",
     "text": [
      "Linear Regression: Cross-Validated Mean Squared Error = -0.0\n",
      "Decision Tree: Cross-Validated Mean Squared Error = -0.0\n",
      "Random Forest: Cross-Validated Mean Squared Error = -0.0\n"
     ]
    }
   ],
   "source": [
    "from sklearn.model_selection import cross_val_score\n",
    "\n",
    "# Perform cross-validation for each model\n",
    "cv_results = {}\n",
    "\n",
    "for model_name, model in models.items():\n",
    "    scores = cross_val_score(model, X, y, cv=5, scoring='neg_mean_squared_error')\n",
    "    mean_mse = -scores.mean()  # Convert negative MSE to positive\n",
    "    cv_results[model_name] = mean_mse\n",
    "\n",
    "# Display cross-validation results\n",
    "for model_name, mean_mse in cv_results.items():\n",
    "    print(f\"{model_name}: Cross-Validated Mean Squared Error = {mean_mse}\")\n"
   ]
  },
  {
   "cell_type": "code",
   "execution_count": null,
   "metadata": {},
   "outputs": [],
   "source": []
  }
 ],
 "metadata": {
  "colab": {
   "provenance": []
  },
  "kernelspec": {
   "display_name": "Python 3 (ipykernel)",
   "language": "python",
   "name": "python3"
  },
  "language_info": {
   "codemirror_mode": {
    "name": "ipython",
    "version": 3
   },
   "file_extension": ".py",
   "mimetype": "text/x-python",
   "name": "python",
   "nbconvert_exporter": "python",
   "pygments_lexer": "ipython3",
   "version": "3.11.5"
  }
 },
 "nbformat": 4,
 "nbformat_minor": 1
}
